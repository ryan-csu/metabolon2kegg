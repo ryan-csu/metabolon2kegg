{
 "cells": [
  {
   "cell_type": "markdown",
   "metadata": {
    "slideshow": {
     "slide_type": "slide"
    }
   },
   "source": [
    "# Metabolon data to KEGG gene mergeing\n",
    "\n",
    "## Inputs:\n",
    "\n",
    "- xlsx file from Metabolon, tab to use\n",
    "\n",
    "Notes: \n",
    "\n",
    "    Biochemical Name*\tIndicates compounds that have not been officially confirmed based on a standard, but we are confident in its identity.\n",
    "    Biochemical Name**\tIndicates a compound for which a standard is not available, but we are reasonably confident in its identity or the information provided.\n",
    "\n",
    "    Biochemical Name (#) or [#]\tIndicates a compound that is a structural isomer of another compound in the Metabolon spectral library.\n",
    "        For example, a steroid that may be sulfated at one of several positions that are indistinguishable by the mass spectrometry data or a diacylglycerol for which more than one stereospecific molecule exists.\n",
    "\n",
    "\n",
    "\n",
    "## Input data saved\n",
    "\n",
    "- tsv files of sample metadata, compound/peak metadata, and abundance data\n",
    "\n",
    "## Reference DBs:\n",
    "\n",
    "- Web REST accesees current KEGG compound, reaction, ortholog datasets, and compound to reaction, reaction to KEGG ortholog data\n",
    "- outputs raw and merged KEGG reference data used\n",
    "\n",
    "## data handeling\n",
    "\n",
    "- filter out very common reaction compounds (CAD(P)/H, A(D/T)P, PO4\n",
    "- remove any unidentified cpounds, or those without a KEGG copound ID (drug IDs not used), or a ko\n",
    "- use both in the case of duplicate differing KEGG IDs\n",
    "\n",
    "## Outputs\n",
    "\n",
    "- merged compound to keg metadata, and simple chemical ID to ko table\n",
    "\n"
   ]
  },
  {
   "cell_type": "markdown",
   "metadata": {},
   "source": [
    "## Import raw metabolon data"
   ]
  },
  {
   "cell_type": "code",
   "execution_count": null,
   "metadata": {},
   "outputs": [],
   "source": [
    "#libraries needed\n",
    "import pandas as pd\n",
    "import numpy as np"
   ]
  },
  {
   "cell_type": "code",
   "execution_count": null,
   "metadata": {
    "scrolled": true,
    "tags": [
     "parameters"
    ]
   },
   "outputs": [],
   "source": [
    "#change settings here\n",
    "#load tab from file (all data, multindex magles nulls)\n",
    "infile='../test.xlsx'\n",
    "infiletab='OrigScale'\n",
    "\n",
    "cols_metadata=13\n",
    "rows_metadata=27"
   ]
  },
  {
   "cell_type": "code",
   "execution_count": null,
   "metadata": {},
   "outputs": [],
   "source": [
    "cols_metadata=int(cols_metadata)\n",
    "rows_metadata=int(rows_metadata)"
   ]
  },
  {
   "cell_type": "code",
   "execution_count": null,
   "metadata": {
    "scrolled": true
   },
   "outputs": [],
   "source": [
    "#read file\n",
    "rawOrigScale=pd.read_excel(infile, sheet_name=infiletab, header=None)"
   ]
  },
  {
   "cell_type": "code",
   "execution_count": null,
   "metadata": {
    "scrolled": true,
    "slideshow": {
     "slide_type": "slide"
    }
   },
   "outputs": [],
   "source": [
    "#get sample meta data\n",
    "sample_meta=rawOrigScale.iloc[:rows_metadata,cols_metadata:].T\n",
    "\n",
    "#sample metadata column names\n",
    "sample_meta_columns=rawOrigScale.iloc[:rows_metadata,cols_metadata-1].to_list()\n",
    "#row and col metadata are mangles into one cell, split it to correct them\n",
    "sample_meta_columns=sample_meta_columns[:-1]+[sample_meta_columns[-1].lstrip().split()[0]]\n",
    "\n",
    "#add in column names\n",
    "sample_meta.columns=sample_meta_columns\n",
    "\n",
    "#drop redundant col and index with uniqID\n",
    "assert (sample_meta.iloc[:,-1]==sample_meta['GROUP_DESCRIPTION']).all()\n",
    "sample_meta = sample_meta.iloc[:,:-1]\n",
    "sample_meta = sample_meta.set_index(sample_meta['CLIENT_IDENTIFIER'], verify_integrity=True)\n",
    "sample_meta.to_csv('_'.join([infile,infiletab,'sampleMETADATA'])+'.tsv')"
   ]
  },
  {
   "cell_type": "code",
   "execution_count": null,
   "metadata": {
    "scrolled": true,
    "slideshow": {
     "slide_type": "slide"
    }
   },
   "outputs": [],
   "source": [
    "#pull out metadata for compounds/peaks\n",
    "chem_meta=rawOrigScale.iloc[rows_metadata:,:cols_metadata]\n",
    "\n",
    "#compounds/peaks metadata column names\n",
    "chem_meta_columns=rawOrigScale.iloc[rows_metadata-1,:cols_metadata].to_list()\n",
    "#row and col metadata are mangles into one cell, split it to correct them\n",
    "chem_meta_columns=chem_meta_columns[:-1]+[chem_meta_columns[-1].lstrip().split()[1]]\n",
    "\n",
    "#add in column names\n",
    "chem_meta.columns=chem_meta_columns\n",
    "\n",
    "chem_meta = chem_meta.set_index(chem_meta['BIOCHEMICAL'], verify_integrity=True)\n",
    "sample_meta.to_csv('_'.join([infile,infiletab,'metabolitesMETADATA'])+'.tsv')"
   ]
  },
  {
   "cell_type": "code",
   "execution_count": null,
   "metadata": {
    "slideshow": {
     "slide_type": "slide"
    }
   },
   "outputs": [],
   "source": [
    "#get data\n",
    "rawdata=rawOrigScale.iloc[rows_metadata:,cols_metadata:].astype(np.float64)\n",
    "metabolomics=rawdata.set_axis(chem_meta.index, axis=0).set_axis(sample_meta.index, axis=1)\n",
    "sample_meta.to_csv('_'.join([infile,infiletab,'occurance'])+'.tsv')\n",
    "metabolomics\n"
   ]
  },
  {
   "cell_type": "code",
   "execution_count": null,
   "metadata": {},
   "outputs": [],
   "source": [
    "#how many do we have compounds for?\n",
    "#should be 958+4 (at end) lines, then 1270-(958+4) without IDs\n",
    "\n",
    "#now many do we have DB iDs for?\n",
    "print('number of peaks\\t\\t%s\\n' % len(chem_meta))\n",
    "for DB in 'CHEMICAL_ID\tCOMP_ID\tPUBCHEM\tCAS\tKEGG\tHMDB'.split():\n",
    "        #print( len(chem_meta[DB])-sum(chem_meta[DB].isna())\n",
    "        print(chem_meta[DB].describe())\n",
    "        print()"
   ]
  },
  {
   "cell_type": "code",
   "execution_count": null,
   "metadata": {
    "slideshow": {
     "slide_type": "slide"
    }
   },
   "outputs": [],
   "source": [
    "print(\"percent of peaks with the following IDs\")\n",
    "nulls=chem_meta['CHEMICAL_ID\tPUBCHEM\tCAS\tKEGG\tHMDB'.split()].isnull().sum()\n",
    "(100.0*(len(chem_meta[DB])-nulls)/len(chem_meta[DB])).round(1).sort_values(ascending=False)\n"
   ]
  },
  {
   "cell_type": "code",
   "execution_count": null,
   "metadata": {},
   "outputs": [],
   "source": [
    "chem_meta['SUPER_PATHWAY'].unique()"
   ]
  },
  {
   "cell_type": "code",
   "execution_count": null,
   "metadata": {},
   "outputs": [],
   "source": [
    "chem_meta['SUB_PATHWAY'].unique()"
   ]
  },
  {
   "cell_type": "code",
   "execution_count": null,
   "metadata": {},
   "outputs": [],
   "source": [
    "chem_meta.head()"
   ]
  },
  {
   "cell_type": "code",
   "execution_count": null,
   "metadata": {},
   "outputs": [],
   "source": [
    "#searching for strings \n",
    "s='methylamine'\n",
    "chem_meta['BIOCHEMICAL'][chem_meta['BIOCHEMICAL'].str.match(r'.*'+s+'.*', case=False)]"
   ]
  },
  {
   "cell_type": "code",
   "execution_count": null,
   "metadata": {},
   "outputs": [],
   "source": [
    "chem_meta[chem_meta.BIOCHEMICAL.str.match(r'.*'+s+'.*', case=False)].T"
   ]
  },
  {
   "cell_type": "markdown",
   "metadata": {
    "slideshow": {
     "slide_type": "slide"
    }
   },
   "source": [
    "## Retreve all KEGG reactions\n",
    "\n",
    "See: https://www.kegg.jp/kegg/rest/keggapi.html\n",
    "\n",
    "Kinds of links avaliable for compounds:\n",
    "\n",
    "https://www.genome.jp/dbget-bin/get_linkdb?targettype=all&keywords=cpd%3AC00025&targetformat=html&targetdb=alldb\n",
    "\n"
   ]
  },
  {
   "cell_type": "markdown",
   "metadata": {},
   "source": [
    "### get all KEGG IDS as tsv files\n"
   ]
  },
  {
   "cell_type": "code",
   "execution_count": null,
   "metadata": {},
   "outputs": [],
   "source": [
    "%%bash\n",
    "\n",
    "mkdir -p kegg\n",
    "\n",
    "curl http://rest.kegg.jp/info/compound | tee kegg/compound.info\n",
    "wget -P kegg http://rest.kegg.jp/list/compound\n",
    "    curl http://rest.kegg.jp/info/reaction | tee kegg/reaction.info\n",
    "wget -P kegg http://rest.kegg.jp/list/reaction\n",
    "    curl http://rest.kegg.jp/info/ko | tee kegg/ko.info\n",
    "wget -P kegg http://rest.kegg.jp/list/ko\n",
    "    \n",
    "wget http://rest.kegg.jp/link/compound/reaction -O kegg/compound-reaction\n",
    "wget http://rest.kegg.jp/link/reaction/ko -O kegg/reaction-ko\n"
   ]
  },
  {
   "cell_type": "code",
   "execution_count": null,
   "metadata": {},
   "outputs": [],
   "source": [
    "!wc -l kegg/*"
   ]
  },
  {
   "cell_type": "markdown",
   "metadata": {},
   "source": [
    "### Example information avaliable per entry:\n",
    "\n",
    "http://rest.kegg.jp/get/cpd:C00025\n",
    "\n",
    "    ENTRY       C00025                      Compound\n",
    "    ...\n",
    "    REACTION    R00021 R00093 R00114 R00239 R00241 R00243 R00245 R00248 \n",
    "                R00250 R00251 R00253 R00254 R00256 R00257 R00258 R00259 \n",
    "                ...\n",
    "    ...\n",
    "\n",
    "http://rest.kegg.jp/get/rn:R00519\n",
    "\n",
    "    ENTRY       R00519                      Reaction\n",
    "    ...\n",
    "    ORTHOLOGY   K00122  formate dehydrogenase [EC:1.17.1.9]\n",
    "                K00123  formate dehydrogenase major subunit [EC:1.17.1.9]\n",
    "                K00124  formate dehydrogenase iron-sulfur subunit\n",
    "                K00126  formate dehydrogenase subunit delta [EC:1.17.1.9]\n",
    "                K00127  formate dehydrogenase subunit gamma\n",
    "                K22515  formate dehydrogenase beta subunit [EC:1.17.1.9]\n",
    "                ...\n",
    "    ...\n",
    "\n"
   ]
  },
  {
   "cell_type": "code",
   "execution_count": null,
   "metadata": {},
   "outputs": [],
   "source": [
    "#fuinctions to get and parse KEGG\n",
    "\n",
    "def getkid(ser):\n",
    "    h=ser.str.split(':').str[0].unique()\n",
    "    assert len(h)==1\n",
    "    return h[0]\n",
    "\n",
    "def kidprefix_to_colname(df):\n",
    "    df.columns=df.apply(getkid)\n",
    "    return df.apply(lambda x: x.str.split(':').str[1])\n",
    "\n",
    "def KEGG_retrieve(dbname):\n",
    "    url='http://rest.kegg.jp/list/'+dbname\n",
    "    print('downloading %s' % url)\n",
    "    df=pd.read_csv(url, sep='\\t', header=None)\n",
    "    #get kid out of first element, put in column headers\n",
    "    listtkid=getkid(df[0])\n",
    "    df.columns=[listtkid, listtkid+'_description']\n",
    "    #remove kid from first col\n",
    "    df[listtkid]=df[listtkid].str.split(':').str[1]\n",
    "    df.columns.name=dbname\n",
    "    return df\n",
    "\n",
    "def KEGG_link(db1,db2):\n",
    "    url='http://rest.kegg.jp/link/'+db1+'/'+db2\n",
    "    print('downloading %s' % url)\n",
    "    df=pd.read_csv(url, sep='\\t', header=None)\n",
    "    df.columns.name=db1+'_'+db2\n",
    "    return kidprefix_to_colname(df)"
   ]
  },
  {
   "cell_type": "markdown",
   "metadata": {},
   "source": [
    "Use REST interface to get the same file as above. "
   ]
  },
  {
   "cell_type": "code",
   "execution_count": null,
   "metadata": {},
   "outputs": [],
   "source": [
    "%%time\n",
    "c=KEGG_retrieve('compound')\n",
    "r=KEGG_retrieve('reaction')\n",
    "k=KEGG_retrieve('ko')\n",
    "\n",
    "cr=KEGG_link('compound','reaction')\n",
    "rk=KEGG_link('reaction','ko')\n"
   ]
  },
  {
   "cell_type": "code",
   "execution_count": null,
   "metadata": {},
   "outputs": [],
   "source": [
    "kegg_crk = pd.merge(cr,rk, how='outer', indicator='merged_reactionlinks')\n",
    "kegg_crk.head()"
   ]
  },
  {
   "cell_type": "code",
   "execution_count": null,
   "metadata": {},
   "outputs": [],
   "source": [
    "kegg_crk.describe()"
   ]
  },
  {
   "cell_type": "code",
   "execution_count": null,
   "metadata": {},
   "outputs": [],
   "source": [
    "kegg_crk.merged_reactionlinks.value_counts()"
   ]
  },
  {
   "cell_type": "code",
   "execution_count": null,
   "metadata": {},
   "outputs": [],
   "source": [
    "#add in desc\n",
    "for d in c, r, k:\n",
    "    mergeind='merged_'+d.columns.name\n",
    "    kegg_crk = pd.merge(kegg_crk,d, how='outer', indicator=mergeind)\n",
    "    print(kegg_crk[mergeind].value_counts())\n",
    "\n",
    "kegg_crk.head()"
   ]
  },
  {
   "cell_type": "code",
   "execution_count": null,
   "metadata": {},
   "outputs": [],
   "source": [
    "kegg_crk.describe()"
   ]
  },
  {
   "cell_type": "code",
   "execution_count": null,
   "metadata": {},
   "outputs": [],
   "source": [
    "kegg_crk=kegg_crk.drop(kegg_crk.columns[kegg_crk.columns.str.match(r'merged_.*')], axis=1)\n"
   ]
  },
  {
   "cell_type": "code",
   "execution_count": null,
   "metadata": {},
   "outputs": [],
   "source": [
    "kegg_crk.to_csv('kegg/merged_crk.tsv', sep='\\t')"
   ]
  },
  {
   "cell_type": "markdown",
   "metadata": {},
   "source": [
    "## pull out uniq compounds from metabolon and link to ko to exsplore data"
   ]
  },
  {
   "cell_type": "code",
   "execution_count": null,
   "metadata": {},
   "outputs": [],
   "source": [
    "#pull out unique CID for KEGG lookup\n",
    "metabolonKEGG=pd.Series(chem_meta['KEGG'].dropna().unique())\n",
    "            \n",
    "#occasionally there is a drug / compound cross-ref, er wna tthe compound\n",
    "def getCID(KEGGstr):\n",
    "    ids=[c for c in KEGGstr.split(',') if c[0]=='C']\n",
    "    if len(ids)==1: return ids[0]\n",
    "    else: return KEGGstr\n",
    "\n",
    "#drop dupes again in case the drug ones were dupes\n",
    "metabolonKEGG=metabolonKEGG.apply(getCID).dropna().unique()\n",
    "metabolonKEGG=pd.DataFrame(metabolonKEGG, columns=['cpd'])"
   ]
  },
  {
   "cell_type": "code",
   "execution_count": null,
   "metadata": {},
   "outputs": [],
   "source": [
    "metabolon_crk=pd.merge(metabolonKEGG, kegg_crk, how='left', indicator='merged')"
   ]
  },
  {
   "cell_type": "code",
   "execution_count": null,
   "metadata": {},
   "outputs": [],
   "source": [
    "print(len(metabolon_crk))\n",
    "metabolon_crk.describe()"
   ]
  },
  {
   "cell_type": "markdown",
   "metadata": {},
   "source": [
    "### common cpd are not usefull to trace into rxn and genes"
   ]
  },
  {
   "cell_type": "code",
   "execution_count": null,
   "metadata": {
    "slideshow": {
     "slide_type": "slide"
    }
   },
   "outputs": [],
   "source": [
    "for desc in metabolon_crk.columns[metabolon_crk.columns.str.match(r'.*_description')]:\n",
    "    print('\\n'+desc)\n",
    "    print(metabolon_crk[desc].value_counts(ascending=False).head(20))"
   ]
  },
  {
   "cell_type": "code",
   "execution_count": null,
   "metadata": {},
   "outputs": [],
   "source": [
    "#common cpd are not usefull to trace into rxn and genes\n",
    "metabolon_crk['cpd'].value_counts(ascending=False).head(20)"
   ]
  },
  {
   "cell_type": "code",
   "execution_count": null,
   "metadata": {
    "slideshow": {
     "slide_type": "slide"
    }
   },
   "outputs": [],
   "source": [
    "#drop ATP, ADP, NAD, NADH, Phosphate, ect\n",
    "c.head(17)\n",
    "    "
   ]
  },
  {
   "cell_type": "code",
   "execution_count": null,
   "metadata": {},
   "outputs": [],
   "source": [
    "fromcommon=metabolon_crk[metabolon_crk['cpd'].isin(c.head(17)['cpd'])]\n",
    "print('WARNING: these very common cofactors are found in the dataset')\n",
    "fromcommon['cpd_description'].value_counts()"
   ]
  },
  {
   "cell_type": "markdown",
   "metadata": {},
   "source": [
    "### remerge"
   ]
  },
  {
   "cell_type": "code",
   "execution_count": null,
   "metadata": {},
   "outputs": [],
   "source": [
    "metabolon_crk=pd.merge(metabolonKEGG, kegg_crk, how='left', indicator='merged')\n",
    "\n",
    "print('WARNING: dropping H2O, NAD(P)/H, ATP/ADP, and PO4')\n",
    "print('was %s lines' % len(metabolon_crk))\n",
    "\n",
    "droplist=set('''C00001\n",
    "C00002\n",
    "C00003\n",
    "C00004\n",
    "C00005\n",
    "C00006\n",
    "C00008\n",
    "C00009'''.split())\n",
    "\n",
    "#merge just like above, but remove the common cofactors from metabolon list first, so as not to pull in junk\n",
    "metabolon_crk=pd.merge(metabolonKEGG[~metabolonKEGG['cpd'].isin(droplist)], kegg_crk, how='left', indicator='merged')\n",
    "\n",
    "#metabolon_crk=metabolon_crk[~metabolon_crk.cpd.isin(droplist)]\n",
    "\n",
    "print('now %s lines' % len(metabolon_crk))\n",
    "metabolon_crk.describe()\n",
    "\n"
   ]
  },
  {
   "cell_type": "code",
   "execution_count": null,
   "metadata": {},
   "outputs": [],
   "source": [
    "#drop those without any ko genes linked to these compounts\n",
    "metabolon_crk=metabolon_crk.drop('merged', axis=1).dropna(subset=['ko']).drop_duplicates()\n",
    "metabolon_crk"
   ]
  },
  {
   "cell_type": "code",
   "execution_count": null,
   "metadata": {},
   "outputs": [],
   "source": [
    "#get the unique othologs involved\n",
    "metabolon_ko = metabolon_crk[['ko','ko_description']].dropna(subset=['ko']).drop_duplicates()\n",
    "metabolon_ko"
   ]
  },
  {
   "cell_type": "code",
   "execution_count": null,
   "metadata": {},
   "outputs": [],
   "source": [
    "metabolon_ko.describe()"
   ]
  },
  {
   "cell_type": "markdown",
   "metadata": {},
   "source": [
    "# Merge Metabolon with KEGG ortholog data"
   ]
  },
  {
   "cell_type": "code",
   "execution_count": null,
   "metadata": {},
   "outputs": [],
   "source": [
    "#there are duplicate KEGGs in the metabolon table, we will let these duplicate data, as at leasr some seen different. \n",
    "tmp=chem_meta[~chem_meta['KEGG'].isin(droplist)].dropna(subset=['KEGG']).drop_duplicates()\n",
    "tmp[tmp.duplicated(subset=['KEGG'], keep=False)]"
   ]
  },
  {
   "cell_type": "code",
   "execution_count": null,
   "metadata": {},
   "outputs": [],
   "source": [
    "#clean for merge\n",
    "print('WARNING: dropping H2O, NAD(P)/H, ATP/ADP, and PO4')\n",
    "droplist=set('''C00001\n",
    "C00002\n",
    "C00003\n",
    "C00004\n",
    "C00005\n",
    "C00006\n",
    "C00008\n",
    "C00009'''.split())\n",
    "\n",
    "chem_meta_clean=chem_meta[~chem_meta['KEGG'].isin(droplist)].dropna(subset=['KEGG']).drop_duplicates()\n",
    "kegg_crk_clean=kegg_crk[~kegg_crk['cpd'].isin(droplist)].dropna(subset=['cpd']).drop_duplicates()\n",
    "\n",
    "chem_meta_clean_ko=chem_meta_clean.merge(kegg_crk_clean, how='left', indicator='merged', left_on='KEGG', right_on='cpd')\n",
    "chem_meta_clean_ko\n",
    " "
   ]
  },
  {
   "cell_type": "code",
   "execution_count": null,
   "metadata": {},
   "outputs": [],
   "source": [
    "chem_meta_clean_ko.describe()"
   ]
  },
  {
   "cell_type": "code",
   "execution_count": null,
   "metadata": {},
   "outputs": [],
   "source": [
    "chem_meta_clean_ko[chem_meta_clean_ko['merged']=='left_only']"
   ]
  },
  {
   "cell_type": "code",
   "execution_count": null,
   "metadata": {},
   "outputs": [],
   "source": [
    "chem_meta_clean_ko=chem_meta_clean_ko.drop('merged', axis=1).dropna(subset=['CHEMICAL_ID','KEGG','ko'])\n",
    "chem_meta_clean_ko.to_csv('_'.join([infile,infiletab,'metabolitesMETADATA_filtered_KEGGmerge'])+'.tsv')\n",
    "chem_meta_clean_ko.describe()"
   ]
  },
  {
   "cell_type": "code",
   "execution_count": null,
   "metadata": {},
   "outputs": [],
   "source": [
    "#get simple CHEMICAL_ID\tCOMP_ID to ko table\n",
    "chem_ko=chem_meta_clean_ko.copy(deep=True)\n",
    "chem_ko=chem_ko[['CHEMICAL_ID','KEGG','ko']].dropna(how='any').drop_duplicates()\n",
    "chem_ko"
   ]
  },
  {
   "cell_type": "code",
   "execution_count": null,
   "metadata": {
    "slideshow": {
     "slide_type": "slide"
    }
   },
   "outputs": [],
   "source": [
    "chem_ko.to_csv('_'.join([infile,infiletab,'metabolitesCHEMICALID_filtered_KEGG_ko'])+'.tsv')\n",
    "chem_ko.describe()"
   ]
  },
  {
   "cell_type": "markdown",
   "metadata": {
    "slideshow": {
     "slide_type": "slide"
    }
   },
   "source": [
    "## quick test comparison to ko found in metagenomics Novogene annotations"
   ]
  },
  {
   "cell_type": "code",
   "execution_count": null,
   "metadata": {},
   "outputs": [],
   "source": [
    "!rsync jamesrh@cvmrit03.cvmbs.colostate.edu:/lab_data/ryan_lab/jamesrh/ERyan_Novogene_contract_H202SC19111892_working/result/05.FunctionAnnotation/KEGG/GeneNums/Unigenes.absolute.ko.xls ./\n",
    "!cat Unigenes.absolute.ko.xls  | cut -f 1-4 >> tmp.Unigenes.absolute.ko.xls "
   ]
  },
  {
   "cell_type": "code",
   "execution_count": null,
   "metadata": {},
   "outputs": [],
   "source": [
    "MG_KEGG=pd.read_csv('tmp.Unigenes.absolute.ko.xls', sep='\\t')\n"
   ]
  },
  {
   "cell_type": "code",
   "execution_count": null,
   "metadata": {},
   "outputs": [],
   "source": [
    "MG_KEGG"
   ]
  },
  {
   "cell_type": "code",
   "execution_count": null,
   "metadata": {},
   "outputs": [],
   "source": [
    "test = chem_meta_clean_ko.merge(MG_KEGG, how='outer', left_on='ko', right_on='KO_ID', indicator='merged')"
   ]
  },
  {
   "cell_type": "code",
   "execution_count": null,
   "metadata": {},
   "outputs": [],
   "source": [
    "print(len(test))\n",
    "test.describe()"
   ]
  },
  {
   "cell_type": "code",
   "execution_count": null,
   "metadata": {},
   "outputs": [],
   "source": [
    "t=test.merged.value_counts().to_frame()"
   ]
  },
  {
   "cell_type": "code",
   "execution_count": null,
   "metadata": {},
   "outputs": [],
   "source": [
    "test.merged.value_counts().to_frame()"
   ]
  },
  {
   "cell_type": "code",
   "execution_count": null,
   "metadata": {},
   "outputs": [],
   "source": [
    "for v in test.merged.value_counts().to_frame().iterrows():\n",
    "    print(\"\\n%s total %s\\n\" % (v[0], v[1][0]))\n",
    "    print(test[test['merged']==v[0]]['SUPER_PATHWAY'].value_counts(dropna=False))\n",
    "\n",
    "c.cpd.value_counts()"
   ]
  },
  {
   "cell_type": "code",
   "execution_count": null,
   "metadata": {},
   "outputs": [],
   "source": [
    "test2=test[test['merged']=='both'][['SUPER_PATHWAY','SUB_PATHWAY','rn_description','BIOCHEMICAL']]\n",
    "test2=test2.groupby(['SUPER_PATHWAY','SUB_PATHWAY']).agg({\"rn_description\": pd.Series.nunique, \"BIOCHEMICAL\": pd.Series.nunique})\n",
    "test2"
   ]
  },
  {
   "cell_type": "code",
   "execution_count": null,
   "metadata": {
    "slideshow": {
     "slide_type": "slide"
    }
   },
   "outputs": [],
   "source": [
    "#only rarely are there multiple chem per rxn\n",
    "test2[test2['rn_description']/test2['BIOCHEMICAL']<1]\n"
   ]
  },
  {
   "cell_type": "code",
   "execution_count": null,
   "metadata": {
    "slideshow": {
     "slide_type": "slide"
    }
   },
   "outputs": [],
   "source": [
    "#usually, there are more rxn then chemicals\n",
    "test2[test2['rn_description']/test2['BIOCHEMICAL']>=1]"
   ]
  },
  {
   "cell_type": "code",
   "execution_count": null,
   "metadata": {},
   "outputs": [],
   "source": []
  }
 ],
 "metadata": {
  "kernelspec": {
   "display_name": "Python 3",
   "language": "python",
   "name": "python3"
  },
  "language_info": {
   "codemirror_mode": {
    "name": "ipython",
    "version": 3
   },
   "file_extension": ".py",
   "mimetype": "text/x-python",
   "name": "python",
   "nbconvert_exporter": "python",
   "pygments_lexer": "ipython3",
   "version": "3.7.7"
  }
 },
 "nbformat": 4,
 "nbformat_minor": 4
}
